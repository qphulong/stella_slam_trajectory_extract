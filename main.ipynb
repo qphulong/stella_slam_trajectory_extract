{
 "cells": [
  {
   "cell_type": "code",
   "execution_count": 1,
   "metadata": {},
   "outputs": [
    {
     "name": "stdout",
     "output_type": "stream",
     "text": [
      "Requirement already satisfied: opencv-python in ./venv/lib/python3.12/site-packages (4.10.0.84)\n",
      "Requirement already satisfied: opencv-python-headless in ./venv/lib/python3.12/site-packages (4.10.0.84)\n",
      "Requirement already satisfied: numpy>=1.21.2 in ./venv/lib/python3.12/site-packages (from opencv-python) (2.2.1)\n",
      "pip 24.0 from /home/qphulong/workspace/stella_slam_camera_rotation/venv/lib/python3.12/site-packages/pip (python 3.12)\n"
     ]
    }
   ],
   "source": [
    "!pip install opencv-python opencv-python-headless\n",
    "!pip --version"
   ]
  },
  {
   "cell_type": "code",
   "execution_count": 35,
   "metadata": {},
   "outputs": [],
   "source": [
    "import subprocess\n",
    "def run_shell_command(command):\n",
    "    \"\"\"Helper function to run shell commands and handle errors.\"\"\"\n",
    "    result = subprocess.run(command, capture_output=True, text=True, shell=True)\n",
    "    if result.returncode != 0:\n",
    "        print(f\"Error: {result.stderr}\")\n",
    "    return result.stdout"
   ]
  },
  {
   "cell_type": "code",
   "execution_count": null,
   "metadata": {},
   "outputs": [],
   "source": [
    "# 1. PUT THE VIDEO IN ./input MANUALLY\n",
    "# 2. RUN manual_mask.py to manual mask the config (color the part where slam shoudl ignore)"
   ]
  },
  {
   "cell_type": "code",
   "execution_count": 3,
   "metadata": {},
   "outputs": [],
   "source": [
    "# run this command to start the container\n",
    "command = \"docker run -it --rm --privileged -e DISPLAY=$DISPLAY -v /tmp/.X11-unix/:/tmp/.X11-unix:ro stella_vslam-iridescense\""
   ]
  },
  {
   "cell_type": "code",
   "execution_count": 36,
   "metadata": {},
   "outputs": [
    {
     "name": "stdout",
     "output_type": "stream",
     "text": [
      "Getting the first Docker container ID...\n",
      "Container ID: 6572a64853a3\n"
     ]
    }
   ],
   "source": [
    "# get the container id\n",
    "import subprocess\n",
    "print(\"Getting the first Docker container ID...\")\n",
    "container_id = subprocess.check_output(\"docker ps -q\", shell=True).decode().strip()\n",
    "print(f\"Container ID: {container_id}\")"
   ]
  },
  {
   "cell_type": "code",
   "execution_count": 37,
   "metadata": {},
   "outputs": [
    {
     "name": "stdout",
     "output_type": "stream",
     "text": [
      "Video name: o.mp4\n"
     ]
    }
   ],
   "source": [
    "# get video name\n",
    "import os\n",
    "\n",
    "# Path to the input directory\n",
    "input_dir = './input/'\n",
    "\n",
    "# List all files in the directory\n",
    "files = [f for f in os.listdir(input_dir) if f.endswith('.mp4')]\n",
    "\n",
    "# Check if there is exactly one .mp4 file\n",
    "if len(files) == 1:\n",
    "    # Store the name of the .mp4 file\n",
    "    video_name = files[0]\n",
    "    print(f\"Video name: {video_name}\")\n",
    "else:\n",
    "    # Raise an error if the condition is not met\n",
    "    raise ValueError(\"The directory must contain exactly one .mp4 file.\")\n"
   ]
  },
  {
   "cell_type": "code",
   "execution_count": 38,
   "metadata": {},
   "outputs": [
    {
     "name": "stdout",
     "output_type": "stream",
     "text": [
      "{'fps': 29.97, 'cols': 1920, 'rows': 1080}\n"
     ]
    }
   ],
   "source": [
    "import ffmpeg\n",
    "\n",
    "# Function to extract video metadata using ffmpeg\n",
    "def extract_video_metadata(video_path):\n",
    "    # Use ffmpeg.probe to retrieve metadata of the video\n",
    "    probe = ffmpeg._probe.probe(video_path, v='error', select_streams='v:0', show_entries='stream=width,height,r_frame_rate')\n",
    "    \n",
    "    # Extract relevant metadata from the probe results\n",
    "    video_stream = probe['streams'][0]\n",
    "    \n",
    "    # Extract FPS, width (cols), and height (rows)\n",
    "    fps = eval(video_stream['r_frame_rate'])  # 'r_frame_rate' is in the form of \"numerator/denominator\"\n",
    "    cols = video_stream['width']\n",
    "    rows = video_stream['height']\n",
    "    \n",
    "    return {\n",
    "        'fps': fps,\n",
    "        'cols': cols,\n",
    "        'rows': rows\n",
    "    }\n",
    "# Extract metadata\n",
    "video_metadata = extract_video_metadata('./input/'+video_name)\n",
    "print(video_metadata)\n"
   ]
  },
  {
   "cell_type": "code",
   "execution_count": 39,
   "metadata": {},
   "outputs": [
    {
     "name": "stdout",
     "output_type": "stream",
     "text": [
      "YAML file has been created at ./input/config.yaml\n"
     ]
    }
   ],
   "source": [
    "import yaml\n",
    "\n",
    "yaml_content = f\"\"\"\n",
    "Camera:\n",
    "  name: \"RICOH THETA S 960\"\n",
    "  setup: \"monocular\"\n",
    "  model: \"equirectangular\"\n",
    "  fps: {video_metadata['fps']}\n",
    "  cols: {video_metadata['cols']}\n",
    "  rows: {video_metadata['rows']}\n",
    "  color_order: \"RGB\"\n",
    "\n",
    "Preprocessing:\n",
    "  min_size: 800\n",
    "  mask_rectangles:\n",
    "  \n",
    "\n",
    "\n",
    "Feature:\n",
    "  name: \"default ORB feature extraction setting\"\n",
    "  scale_factor: 1.2\n",
    "  num_levels: 8\n",
    "  ini_fast_threshold: 20\n",
    "  min_fast_threshold: 7\n",
    "\n",
    "Mapping:\n",
    "  backend: \"g2o\"\n",
    "  baseline_dist_thr_ratio: 0.02\n",
    "  redundant_obs_ratio_thr: 0.95\n",
    "  num_covisibilities_for_landmark_generation: 20\n",
    "  num_covisibilities_for_landmark_fusion: 20\n",
    "  residual_deg_thr: 0.4\n",
    "\n",
    "Tracking:\n",
    "  backend: \"g2o\"\n",
    "\n",
    "LoopDetector:\n",
    "  backend: \"g2o\"\n",
    "  enabled: true\n",
    "  reject_by_graph_distance: true\n",
    "  min_distance_on_graph: 50\n",
    "\n",
    "GraphOptimizer:\n",
    "  min_num_shared_lms: 200\n",
    "\n",
    "GlobalOptimizer:\n",
    "  thr_neighbor_keyframes: 100\n",
    "\n",
    "System:\n",
    "  map_format: \"msgpack\"\n",
    "  num_grid_cols: 96\n",
    "  num_grid_rows: 48\n",
    "\"\"\"\n",
    "\n",
    "# Write the content to a file\n",
    "file_path = './input/config.yaml'\n",
    "\n",
    "with open(file_path, 'w') as file:\n",
    "    file.write(yaml_content)\n",
    "\n",
    "print(f\"YAML file has been created at {file_path}\")\n"
   ]
  },
  {
   "cell_type": "code",
   "execution_count": 40,
   "metadata": {},
   "outputs": [
    {
     "name": "stdout",
     "output_type": "stream",
     "text": [
      "Copying inputs to container 6572a64853a3...\n"
     ]
    },
    {
     "data": {
      "text/plain": [
       "CompletedProcess(args='docker cp ./input 6572a64853a3:/stella_vslam_examples/build/input', returncode=0)"
      ]
     },
     "execution_count": 40,
     "metadata": {},
     "output_type": "execute_result"
    }
   ],
   "source": [
    "# copy video and config to container\n",
    "print(f\"Copying inputs to container {container_id}...\")\n",
    "subprocess.run(\n",
    "    f\"docker cp ./input {container_id}:/stella_vslam_examples/build/input\",\n",
    "    shell=True\n",
    ")"
   ]
  },
  {
   "cell_type": "code",
   "execution_count": 41,
   "metadata": {},
   "outputs": [
    {
     "data": {
      "text/plain": [
       "CompletedProcess(args='docker exec 6572a64853a3 curl -sL \"https://github.com/stella-cv/FBoW_orb_vocab/raw/main/orb_vocab.fbow\" -o orb_vocab.fbow', returncode=0)"
      ]
     },
     "execution_count": 41,
     "metadata": {},
     "output_type": "execute_result"
    }
   ],
   "source": [
    "# repair the container\n",
    "subprocess.run(\n",
    "    f\"docker exec {container_id} mkdir output\",\n",
    "    shell=True\n",
    ")\n",
    "subprocess.run(\n",
    "    f'docker exec {container_id} curl -sL \"https://github.com/stella-cv/FBoW_orb_vocab/raw/main/orb_vocab.fbow\" -o orb_vocab.fbow',\n",
    "    shell=True\n",
    ")"
   ]
  },
  {
   "cell_type": "code",
   "execution_count": 42,
   "metadata": {},
   "outputs": [
    {
     "name": "stdout",
     "output_type": "stream",
     "text": [
      "[2025-01-16 10:35:34.128] [I] config file loaded: ./input/config.yaml\n",
      "[2025-01-16 10:35:34.128] [I] \n",
      "original version of OpenVSLAM,\n",
      "Copyright (C) 2019,\n",
      "National Institute of Advanced Industrial Science and Technology (AIST)\n",
      "All rights reserved.\n",
      "stella_vslam (the changes after forking from OpenVSLAM),\n",
      "Copyright (C) 2022, stella-cv, All rights reserved.\n",
      "\n",
      "This is free software,\n",
      "and you are welcome to redistribute it under certain conditions.\n",
      "See the LICENSE file.\n",
      "\n",
      "Camera:\n",
      "  name: RICOH THETA S 960\n",
      "  setup: monocular\n",
      "  model: equirectangular\n",
      "  fps: 29.97\n",
      "  cols: 1920\n",
      "  rows: 1080\n",
      "  color_order: RGB\n",
      "Preprocessing:\n",
      "  min_size: 800\n",
      "  mask_rectangles: ~\n",
      "Feature:\n",
      "  name: default ORB feature extraction setting\n",
      "  scale_factor: 1.2\n",
      "  num_levels: 8\n",
      "  ini_fast_threshold: 20\n",
      "  min_fast_threshold: 7\n",
      "Mapping:\n",
      "  backend: g2o\n",
      "  baseline_dist_thr_ratio: 0.02\n",
      "  redundant_obs_ratio_thr: 0.95\n",
      "  num_covisibilities_for_landmark_generation: 20\n",
      "  num_covisibilities_for_landmark_fusion: 20\n",
      "  residual_deg_thr: 0.4\n",
      "Tracking:\n",
      "  backend: g2o\n",
      "LoopDetector:\n",
      "  backend: g2o\n",
      "  enabled: true\n",
      "  reject_by_graph_distance: true\n",
      "  min_distance_on_graph: 50\n",
      "GraphOptimizer:\n",
      "  min_num_shared_lms: 200\n",
      "GlobalOptimizer:\n",
      "  thr_neighbor_keyframes: 100\n",
      "System:\n",
      "  map_format: msgpack\n",
      "  num_grid_cols: 96\n",
      "  num_grid_rows: 48\n",
      "\n",
      "[2025-01-16 10:35:34.128] [I] loading ORB vocabulary: ./orb_vocab.fbow\n",
      "[2025-01-16 10:35:34.142] [I] load orb_params \"default ORB feature extraction setting\"\n",
      "[2025-01-16 10:35:34.145] [I] startup SLAM system\n",
      "[2025-01-16 10:35:34.145] [I] start mapping module\n",
      "[2025-01-16 10:35:34.145] [I] start global optimization module\n",
      "[2025-01-16 10:35:34.559] [I] initialization succeeded with E\n",
      "[2025-01-16 10:35:34.574] [I] new map created with 135 points: frame 0 - frame 3\n",
      "[2025-01-16 10:35:35.744] [I] local map tracking failed (curr_frm_=22)\n",
      "[2025-01-16 10:35:35.744] [I] tracking lost: frame 22\n",
      "[2025-01-16 10:35:35.744] [I] tracking lost within 5 sec after initialization\n",
      "[2025-01-16 10:35:35.744] [I] resetting system\n",
      "[2025-01-16 10:35:35.747] [I] reset global optimization module\n",
      "[2025-01-16 10:35:35.748] [I] reset mapping module\n",
      "[2025-01-16 10:35:35.748] [I] clear BoW database\n",
      "[2025-01-16 10:35:35.748] [I] clear map database\n",
      "[2025-01-16 10:35:36.008] [I] initialization succeeded with E\n",
      "[2025-01-16 10:35:36.021] [I] new map created with 135 points: frame 23 - frame 25\n",
      "[2025-01-16 10:39:37.333] [I] terminate global optimization module\n",
      "[2025-01-16 10:39:37.333] [I] terminate mapping module\n",
      "[2025-01-16 10:39:37.333] [I] shutdown SLAM system\n",
      "[2025-01-16 10:39:37.336] [I] dump frame trajectory in \"TUM\" format from frame 23 to frame 2996 (2973 frames)\n",
      "[2025-01-16 10:39:37.336] [W] frame(s) from 24 to 24 was/were skipped\n",
      "[2025-01-16 10:39:37.352] [I] dump keyframe trajectory in \"TUM\" format from keyframe 0 to keyframe 85 (64 keyframes)\n",
      "median tracking time: 0.0669754[s]\n",
      "mean tracking time: 0.0694018[s]\n",
      "[2025-01-16 10:39:37.359] [I] encoding 1 camera(s) to store\n",
      "[2025-01-16 10:39:37.359] [I] encoding 1 orb_params to store\n",
      "[2025-01-16 10:39:37.359] [I] encoding 64 keyframes to store\n",
      "[2025-01-16 10:39:37.896] [I] encoding 2738 landmarks to store\n",
      "[2025-01-16 10:39:38.110] [I] save the MessagePack file of database to map.msg\n",
      "[2025-01-16 10:39:38.441] [I] clear BoW database\n",
      "[2025-01-16 10:39:38.594] [I] clear map database\n"
     ]
    },
    {
     "data": {
      "text/plain": [
       "CompletedProcess(args='docker exec 6572a64853a3 ./run_video_slam     -v ./orb_vocab.fbow     -c ./input/config.yaml     -m ./input/o.mp4     --map-db-out map.msg     --no-sleep     --eval-log-dir output     --start-timestamp 0     --mask ./input/mask.png', returncode=0)"
      ]
     },
     "execution_count": 42,
     "metadata": {},
     "output_type": "execute_result"
    }
   ],
   "source": [
    "# run the container\n",
    "subprocess.run(\n",
    "    f\"docker exec {container_id} ./run_video_slam \\\n",
    "    -v ./orb_vocab.fbow \\\n",
    "    -c ./input/config.yaml \\\n",
    "    -m ./input/{video_name} \\\n",
    "    --map-db-out map.msg \\\n",
    "    --no-sleep \\\n",
    "    --eval-log-dir output \\\n",
    "    --start-timestamp 0 \\\n",
    "    --mask ./input/mask.png\",\n",
    "    shell=True\n",
    ")"
   ]
  },
  {
   "cell_type": "code",
   "execution_count": 43,
   "metadata": {},
   "outputs": [
    {
     "data": {
      "text/plain": [
       "CompletedProcess(args='docker cp 6572a64853a3:/stella_vslam_examples/build/output .', returncode=0)"
      ]
     },
     "execution_count": 43,
     "metadata": {},
     "output_type": "execute_result"
    }
   ],
   "source": [
    "subprocess.run(\n",
    "    f\"docker cp {container_id}:/stella_vslam_examples/build/output .\",\n",
    "    shell=True\n",
    ")"
   ]
  },
  {
   "cell_type": "code",
   "execution_count": null,
   "metadata": {},
   "outputs": [],
   "source": [
    "# visualize animation\n",
    "# run animation.py\n",
    "\n",
    "# overlay the path to video\n",
    "# run overlay.py (overlay currently does not work well for y)\n",
    "# tam thoi cu xai overlay.py chu cung ko chac cai code overlay no dung :), co the no sai a."
   ]
  }
 ],
 "metadata": {
  "kernelspec": {
   "display_name": "venv",
   "language": "python",
   "name": "python3"
  },
  "language_info": {
   "codemirror_mode": {
    "name": "ipython",
    "version": 3
   },
   "file_extension": ".py",
   "mimetype": "text/x-python",
   "name": "python",
   "nbconvert_exporter": "python",
   "pygments_lexer": "ipython3",
   "version": "3.12.3"
  }
 },
 "nbformat": 4,
 "nbformat_minor": 2
}
