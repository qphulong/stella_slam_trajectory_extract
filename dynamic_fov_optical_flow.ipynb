{
 "cells": [
  {
   "cell_type": "code",
   "execution_count": 1,
   "id": "61c178f2",
   "metadata": {},
   "outputs": [],
   "source": [
    "import cv2\n",
    "import numpy as np\n",
    "\n",
    "video_path = \"./input/o.mp4\"\n",
    "cap = cv2.VideoCapture(video_path)\n",
    "frames = []\n",
    "while cap.isOpened():\n",
    "    ret, frame = cap.read()\n",
    "    if not ret:\n",
    "        break\n",
    "    resized_frame = cv2.resize(frame, (640, 320), interpolation=cv2.INTER_AREA)\n",
    "    frames.append(resized_frame)\n",
    "cap.release()"
   ]
  },
  {
   "cell_type": "code",
   "execution_count": 3,
   "id": "91d26f86",
   "metadata": {},
   "outputs": [],
   "source": [
    "padded_frames = []\n",
    "pad_w, pad_h = 16, 8\n",
    "for frame in frames:\n",
    "    h, w = frame.shape[:2]  # 320, 640\n",
    "    # Add padding with horizontal wrapping\n",
    "    padded = cv2.copyMakeBorder(\n",
    "        frame,\n",
    "        pad_h, pad_h, pad_w, pad_w,\n",
    "        cv2.BORDER_WRAP  # Wraps horizontally\n",
    "    )\n",
    "    # Duplicate top row across top padding\n",
    "    top_row = frame[0:1, :]  # Shape: (1, 640, 3)\n",
    "    top_padding = np.tile(top_row, (pad_h, 1, 1))  # Repeat row 8 times: (8, 640, 3)\n",
    "    # Extend width to 672 by padding or tiling (here, we pad with edge values)\n",
    "    top_padding = cv2.copyMakeBorder(\n",
    "        top_padding,\n",
    "        0, 0, 0, pad_w * 2,  # Add 32 pixels total (16 each side)\n",
    "        cv2.BORDER_REPLICATE  # Replicate edge pixels\n",
    "    )  # Shape: (8, 672, 3)\n",
    "    padded[:pad_h, :] = top_padding\n",
    "\n",
    "    # Duplicate bottom row across bottom padding\n",
    "    bottom_row = frame[-1:, :]  # Shape: (1, 640, 3)\n",
    "    bottom_padding = np.tile(bottom_row, (pad_h, 1, 1))  # Shape: (8, 640, 3)\n",
    "    bottom_padding = cv2.copyMakeBorder(\n",
    "        bottom_padding,\n",
    "        0, 0, 0, pad_w * 2,\n",
    "        cv2.BORDER_REPLICATE\n",
    "    )  # Shape: (8, 672, 3)\n",
    "    padded[-pad_h:, :] = bottom_padding\n",
    "\n",
    "    padded_frames.append(padded)"
   ]
  },
  {
   "cell_type": "code",
   "execution_count": 4,
   "id": "34225d7f",
   "metadata": {},
   "outputs": [],
   "source": [
    "flow_magnitudes = []\n",
    "for i in range(1, len(padded_frames)):\n",
    "    prev = cv2.cvtColor(padded_frames[i-1], cv2.COLOR_BGR2GRAY)\n",
    "    curr = cv2.cvtColor(padded_frames[i], cv2.COLOR_BGR2GRAY)\n",
    "    flow = cv2.calcOpticalFlowFarneback(\n",
    "        prev, curr, None,\n",
    "        pyr_scale=0.3, levels=2, winsize=10, iterations=1, poly_n=5, poly_sigma=1.1, flags=0\n",
    "    )\n",
    "    magnitude = np.sqrt(flow[..., 0]**2 + flow[..., 1]**2)\n",
    "    # Crop the padding (back to 640x320)\n",
    "    cropped = magnitude[pad_h:-pad_h, pad_w:-pad_w]\n",
    "    flow_magnitudes.append(cropped)"
   ]
  },
  {
   "cell_type": "code",
   "execution_count": 5,
   "id": "4a410b01",
   "metadata": {},
   "outputs": [],
   "source": [
    "import csv\n",
    "\n",
    "grid_data = []\n",
    "for i in range(0, len(flow_magnitudes), 5):\n",
    "    mag = flow_magnitudes[i]\n",
    "    grid = np.zeros((64, 128))\n",
    "    for y in range(64):\n",
    "        for x in range(128):\n",
    "            block = mag[y*5:(y+1)*5, x*5:(x+1)*5]\n",
    "            grid[y, x] = np.mean(block)\n",
    "    grid_data.append((i+1, grid.flatten()))  # Frame number (i+1 since flow starts at frame 1)\n",
    "\n",
    "with open(\"optical_flow.csv\", \"w\", newline=\"\") as f:\n",
    "    writer = csv.writer(f)\n",
    "    writer.writerow([\"frame_number\"] + [f\"grid_{i}\" for i in range(128*64)])\n",
    "    for frame_num, grid in grid_data:\n",
    "        writer.writerow([frame_num] + grid.tolist())"
   ]
  }
 ],
 "metadata": {
  "kernelspec": {
   "display_name": "venv",
   "language": "python",
   "name": "python3"
  },
  "language_info": {
   "codemirror_mode": {
    "name": "ipython",
    "version": 3
   },
   "file_extension": ".py",
   "mimetype": "text/x-python",
   "name": "python",
   "nbconvert_exporter": "python",
   "pygments_lexer": "ipython3",
   "version": "3.12.3"
  }
 },
 "nbformat": 4,
 "nbformat_minor": 5
}
